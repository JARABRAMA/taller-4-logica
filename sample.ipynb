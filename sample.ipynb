{
 "cells": [
  {
   "metadata": {},
   "cell_type": "markdown",
   "source": [
    "# Pruebas y comprobaciones \n",
    "\n",
    "clase arbol binario "
   ],
   "id": "8a77807f92f26ee"
  },
  {
   "metadata": {},
   "cell_type": "markdown",
   "source": "## clase nodo de un arbol binario ",
   "id": "f96af61556d7bb8f"
  },
  {
   "metadata": {
    "ExecuteTime": {
     "end_time": "2024-05-08T13:41:55.641610Z",
     "start_time": "2024-05-08T13:41:55.632463Z"
    }
   },
   "cell_type": "code",
   "source": [
    "class Node:  # this root helps to build a tree \n",
    "    def __init__(self, value, left=None, right=None):\n",
    "        assert left is None or isinstance(left, Node), \"left must be Node not {0}\".format(type(left))\n",
    "        assert right is None or isinstance(right, Node), \"right must be Node not {0}\".format(type(right))\n",
    "        self.value = value\n",
    "        self.right = right\n",
    "        self.left = left\n",
    "        \n",
    "    def __str__(self):\n",
    "        if self.right is None and self.left is None: \n",
    "            return \"{0}\".format(self.value)\n",
    "        if self.right is None: \n",
    "            return \"{0}=>[ {1} ,  ]\".format(self.value, self.left)\n",
    "        if self.left is None: \n",
    "            return \"{0}=>[  , {1} ]\".format(self.value, self.right)\n",
    "        else: \n",
    "            return \"{0}=>[ {1} , {2} ]\".format(self.value, self.left, self.right) \n"
   ],
   "id": "fbc121e30a2defb3",
   "outputs": [],
   "execution_count": 30
  },
  {
   "metadata": {
    "ExecuteTime": {
     "end_time": "2024-05-08T14:06:30.251338Z",
     "start_time": "2024-05-08T14:06:30.248361Z"
    }
   },
   "cell_type": "code",
   "source": [
    "a = Node(\"a\", Node(\"b\", right=Node(\"d\"), left=Node(\"e\")), Node(\"c\", left=Node(\"f\"), right=Node(\"g\")))\n",
    "print(a)"
   ],
   "id": "fab4f8b8d8e7cbde",
   "outputs": [
    {
     "name": "stdout",
     "output_type": "stream",
     "text": [
      "a=>[ b=>[ e , d ] , c=>[ f , g ] ]\n"
     ]
    }
   ],
   "execution_count": 35
  },
  {
   "metadata": {},
   "cell_type": "markdown",
   "source": [
    "el codigo anterior representa el arbol: \n",
    "\n",
    "![arbol 1](data/arbol-1.png)"
   ],
   "id": "bdbc8f5ad150f041"
  },
  {
   "metadata": {},
   "cell_type": "markdown",
   "source": "## Recorrido de arboles ",
   "id": "656a091b46183be7"
  },
  {
   "metadata": {
    "ExecuteTime": {
     "end_time": "2024-05-08T14:06:33.273294Z",
     "start_time": "2024-05-08T14:06:33.268328Z"
    }
   },
   "cell_type": "code",
   "source": [
    "# root, left, right\n",
    "def pre_order(root): \n",
    "    assert isinstance(root, Node) or root is None, \"root must be Node not %s\"%type(root)\n",
    "    if root: \n",
    "        print(root.value, end=\" \")\n",
    "        pre_order(root.left)\n",
    "        pre_order(root.right)\n",
    "\n",
    "# for the anterior tree {{a}}\n",
    "# target = a, b, e, c, f, g\n",
    "pre_order(root=a)        "
   ],
   "id": "6cfb5b77ac962182",
   "outputs": [
    {
     "name": "stdout",
     "output_type": "stream",
     "text": [
      "a b e d c f g "
     ]
    }
   ],
   "execution_count": 36
  },
  {
   "metadata": {},
   "cell_type": "code",
   "outputs": [],
   "execution_count": null,
   "source": "",
   "id": "5e572a43b64cbe99"
  }
 ],
 "metadata": {
  "kernelspec": {
   "display_name": "Python 3",
   "language": "python",
   "name": "python3"
  },
  "language_info": {
   "codemirror_mode": {
    "name": "ipython",
    "version": 2
   },
   "file_extension": ".py",
   "mimetype": "text/x-python",
   "name": "python",
   "nbconvert_exporter": "python",
   "pygments_lexer": "ipython2",
   "version": "2.7.6"
  }
 },
 "nbformat": 4,
 "nbformat_minor": 5
}
