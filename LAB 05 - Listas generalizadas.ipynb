{
 "cells": [
  {
   "cell_type": "code",
   "metadata": {
    "ExecuteTime": {
     "end_time": "2024-05-08T13:13:01.771969Z",
     "start_time": "2024-05-08T13:13:01.348228Z"
    }
   },
   "source": [
    "!wget --no-cache -O init.py -q https://raw.githubusercontent.com/rramosp/20192.L3/master/init.py\n",
    "import init; init.init(force_download=False); init.get_weblink()"
   ],
   "outputs": [
    {
     "name": "stdout",
     "output_type": "stream",
     "text": [
      "endpoint https://m3g87w9l3k.execute-api.us-west-2.amazonaws.com/dev/rlxmooc\n"
     ]
    },
    {
     "data": {
      "text/plain": [
       "<IPython.core.display.HTML object>"
      ],
      "text/html": [
       "<h3>See <a href='https://m3g87w9l3k.execute-api.us-west-2.amazonaws.com/dev/rlxmooc/web/login' target='_blank'>my courses and progress</a></h2>"
      ]
     },
     "execution_count": 4,
     "metadata": {},
     "output_type": "execute_result"
    }
   ],
   "execution_count": 4
  },
  {
   "cell_type": "code",
   "metadata": {
    "ExecuteTime": {
     "end_time": "2024-05-08T13:13:19.743853Z",
     "start_time": "2024-05-08T13:13:01.983088Z"
    }
   },
   "source": [
    "import init\n",
    "from local.lib.rlxmoocapi import submit, session\n",
    "import inspect\n",
    "student = session.Session(init.endpoint).login( course_id=init.course_id, \n",
    "                                                session_id=\"UDEA\", \n",
    "                                                lab_id=\"lab_05\" )"
   ],
   "outputs": [
    {
     "ename": "ValueError",
     "evalue": "b'{\"message\": \"Internal server error\"}'\n--\n{'Content-Type': 'application/json', 'Content-Length': '36', 'Connection': 'keep-alive', 'Date': 'Wed, 08 May 2024 13:13:19 GMT', 'x-amzn-RequestId': '3b3a9e32-446c-4174-a2f0-e4f0fa3962dd', 'x-amzn-ErrorType': 'InternalServerErrorException', 'x-amz-apigw-id': 'XdARfHKPPHcETlQ=', 'X-Cache': 'Error from cloudfront', 'Via': '1.1 928e2ccb0f58eaedfff46d9f8fa42248.cloudfront.net (CloudFront)', 'X-Amz-Cf-Pop': 'BOG51-P1', 'X-Amz-Cf-Id': '2C3ZRrpDSb2KtFf0CD54h98fG0eX_3RCkCR4TClWTJo97tX2qVTueg=='}\n--\n{\"message\": \"Internal server error\"}\n--\nInternal Server Error",
     "output_type": "error",
     "traceback": [
      "\u001B[0;31m---------------------------------------------------------------------------\u001B[0m",
      "\u001B[0;31mValueError\u001B[0m                                Traceback (most recent call last)",
      "Cell \u001B[0;32mIn[5], line 4\u001B[0m\n\u001B[1;32m      2\u001B[0m \u001B[38;5;28;01mfrom\u001B[39;00m \u001B[38;5;21;01mlocal\u001B[39;00m\u001B[38;5;21;01m.\u001B[39;00m\u001B[38;5;21;01mlib\u001B[39;00m\u001B[38;5;21;01m.\u001B[39;00m\u001B[38;5;21;01mrlxmoocapi\u001B[39;00m \u001B[38;5;28;01mimport\u001B[39;00m submit, session\n\u001B[1;32m      3\u001B[0m \u001B[38;5;28;01mimport\u001B[39;00m \u001B[38;5;21;01minspect\u001B[39;00m\n\u001B[0;32m----> 4\u001B[0m student \u001B[38;5;241m=\u001B[39m session\u001B[38;5;241m.\u001B[39mSession(init\u001B[38;5;241m.\u001B[39mendpoint)\u001B[38;5;241m.\u001B[39mlogin( course_id\u001B[38;5;241m=\u001B[39minit\u001B[38;5;241m.\u001B[39mcourse_id, \n\u001B[1;32m      5\u001B[0m                                                 session_id\u001B[38;5;241m=\u001B[39m\u001B[38;5;124m\"\u001B[39m\u001B[38;5;124mUDEA\u001B[39m\u001B[38;5;124m\"\u001B[39m, \n\u001B[1;32m      6\u001B[0m                                                 lab_id\u001B[38;5;241m=\u001B[39m\u001B[38;5;124m\"\u001B[39m\u001B[38;5;124mlab_05\u001B[39m\u001B[38;5;124m\"\u001B[39m )\n",
      "File \u001B[0;32m~/PycharmProjects/taller-4-logica/local/lib/rlxmoocapi/session.py:74\u001B[0m, in \u001B[0;36mSession.login\u001B[0;34m(self, user_id, pwd, course_id, session_id, lab_id)\u001B[0m\n\u001B[1;32m     71\u001B[0m     pwd \u001B[38;5;241m=\u001B[39m getpass\u001B[38;5;241m.\u001B[39mgetpass(\u001B[38;5;124m\"\u001B[39m\u001B[38;5;124mpassword: \u001B[39m\u001B[38;5;124m\"\u001B[39m)\n\u001B[1;32m     73\u001B[0m data \u001B[38;5;241m=\u001B[39m {\u001B[38;5;124m\"\u001B[39m\u001B[38;5;124muser_id\u001B[39m\u001B[38;5;124m\"\u001B[39m: user_id, \u001B[38;5;124m\"\u001B[39m\u001B[38;5;124muser_pwd\u001B[39m\u001B[38;5;124m\"\u001B[39m: pwd}\n\u001B[0;32m---> 74\u001B[0m resp \u001B[38;5;241m=\u001B[39m \u001B[38;5;28mself\u001B[39m\u001B[38;5;241m.\u001B[39mdo_post(\u001B[38;5;124m\"\u001B[39m\u001B[38;5;124mlogin\u001B[39m\u001B[38;5;124m\"\u001B[39m, data, loggedin_required\u001B[38;5;241m=\u001B[39m\u001B[38;5;28;01mFalse\u001B[39;00m)\n\u001B[1;32m     75\u001B[0m \u001B[38;5;28mself\u001B[39m\u001B[38;5;241m.\u001B[39mtoken \u001B[38;5;241m=\u001B[39m \u001B[38;5;28meval\u001B[39m(resp\u001B[38;5;241m.\u001B[39mcontent)[\u001B[38;5;124m\"\u001B[39m\u001B[38;5;124mMooc-Token\u001B[39m\u001B[38;5;124m\"\u001B[39m]\n\u001B[1;32m     76\u001B[0m \u001B[38;5;28mself\u001B[39m\u001B[38;5;241m.\u001B[39muser_id \u001B[38;5;241m=\u001B[39m user_id\n",
      "File \u001B[0;32m~/PycharmProjects/taller-4-logica/local/lib/rlxmoocapi/session.py:53\u001B[0m, in \u001B[0;36mSession.do_post\u001B[0;34m(self, url, data, loggedin_required)\u001B[0m\n\u001B[1;32m     52\u001B[0m \u001B[38;5;28;01mdef\u001B[39;00m \u001B[38;5;21mdo_post\u001B[39m(\u001B[38;5;28mself\u001B[39m, url, data\u001B[38;5;241m=\u001B[39m\u001B[38;5;28;01mNone\u001B[39;00m, loggedin_required\u001B[38;5;241m=\u001B[39m\u001B[38;5;28;01mTrue\u001B[39;00m):\n\u001B[0;32m---> 53\u001B[0m     \u001B[38;5;28;01mreturn\u001B[39;00m \u001B[38;5;28mself\u001B[39m\u001B[38;5;241m.\u001B[39mdo(requests\u001B[38;5;241m.\u001B[39mpost, url, data, loggedin_required)\n",
      "File \u001B[0;32m~/PycharmProjects/taller-4-logica/local/lib/rlxmoocapi/session.py:23\u001B[0m, in \u001B[0;36mmaxfreq.<locals>.wrapper.<locals>.function_wrapper\u001B[0;34m(*args, **kwargs)\u001B[0m\n\u001B[1;32m     20\u001B[0m         sleep(maxlapse\u001B[38;5;241m-\u001B[39mt)\n\u001B[1;32m     22\u001B[0m mf_tlastcall \u001B[38;5;241m=\u001B[39m time()\n\u001B[0;32m---> 23\u001B[0m \u001B[38;5;28;01mreturn\u001B[39;00m func(\u001B[38;5;241m*\u001B[39margs, \u001B[38;5;241m*\u001B[39m\u001B[38;5;241m*\u001B[39mkwargs)\n",
      "File \u001B[0;32m~/PycharmProjects/taller-4-logica/local/lib/rlxmoocapi/session.py:49\u001B[0m, in \u001B[0;36mSession.do\u001B[0;34m(self, request_function, url, data, loggedin_required)\u001B[0m\n\u001B[1;32m     47\u001B[0m     \u001B[38;5;28;01melse\u001B[39;00m:\n\u001B[1;32m     48\u001B[0m         msg \u001B[38;5;241m=\u001B[39m \u001B[38;5;124m\"\u001B[39m\u001B[38;5;130;01m\\n\u001B[39;00m\u001B[38;5;124m--\u001B[39m\u001B[38;5;130;01m\\n\u001B[39;00m\u001B[38;5;124m\"\u001B[39m\u001B[38;5;241m.\u001B[39mjoin([\u001B[38;5;28mstr\u001B[39m(i) \u001B[38;5;28;01mfor\u001B[39;00m i \u001B[38;5;129;01min\u001B[39;00m [resp\u001B[38;5;241m.\u001B[39mcontent, resp\u001B[38;5;241m.\u001B[39mheaders, resp\u001B[38;5;241m.\u001B[39mtext, resp\u001B[38;5;241m.\u001B[39mreason]])\n\u001B[0;32m---> 49\u001B[0m         \u001B[38;5;28;01mraise\u001B[39;00m \u001B[38;5;167;01mValueError\u001B[39;00m(msg)\n\u001B[1;32m     50\u001B[0m \u001B[38;5;28;01mreturn\u001B[39;00m resp\n",
      "\u001B[0;31mValueError\u001B[0m: b'{\"message\": \"Internal server error\"}'\n--\n{'Content-Type': 'application/json', 'Content-Length': '36', 'Connection': 'keep-alive', 'Date': 'Wed, 08 May 2024 13:13:19 GMT', 'x-amzn-RequestId': '3b3a9e32-446c-4174-a2f0-e4f0fa3962dd', 'x-amzn-ErrorType': 'InternalServerErrorException', 'x-amz-apigw-id': 'XdARfHKPPHcETlQ=', 'X-Cache': 'Error from cloudfront', 'Via': '1.1 928e2ccb0f58eaedfff46d9f8fa42248.cloudfront.net (CloudFront)', 'X-Amz-Cf-Pop': 'BOG51-P1', 'X-Amz-Cf-Id': '2C3ZRrpDSb2KtFf0CD54h98fG0eX_3RCkCR4TClWTJo97tX2qVTueg=='}\n--\n{\"message\": \"Internal server error\"}\n--\nInternal Server Error"
     ]
    }
   ],
   "execution_count": 5
  },
  {
   "metadata": {},
   "cell_type": "code",
   "outputs": [],
   "execution_count": null,
   "source": ""
  },
  {
   "cell_type": "markdown",
   "metadata": {},
   "source": [
    "# LAB 05 - Listas generalizadas \n",
    "\n",
    "En estos ejercicios usaremos las clases `Node` y `L`. Ejecuta la siguiente celda para cargar sus definiciones"
   ]
  },
  {
   "cell_type": "code",
   "execution_count": 6,
   "metadata": {},
   "outputs": [],
   "source": [
    "class Node:\n",
    "    def __init__(self, value, next=None):\n",
    "        assert next is None or isinstance(next,Node), \"next must be Node, not %s\"%(type(next))\n",
    "        self.value = value\n",
    "        self.next  = next\n",
    "        \n",
    "    def __repr__(self):\n",
    "        return str(self.value)\n",
    "    \n",
    "class L(object):\n",
    "    def __init__ (self, first_node=None):\n",
    "        assert first_node is None or isinstance(first_node,Node), \"first must be Node, not %s\"%(type(first_node))\n",
    "        self.first_node = first_node\n",
    "        \n",
    "    def __getitem__(self, idx):\n",
    "        k = self.first_node\n",
    "        for i in range(idx):\n",
    "            assert k.next is not None, \"index %s out of range\"%(str(idx))\n",
    "            k = k.next  \n",
    "        return k.value\n",
    "    \n",
    "    def __len__(self):\n",
    "        k = self.first_node\n",
    "        if k is None:\n",
    "            return 0\n",
    "        i=1\n",
    "        while k.next is not None:\n",
    "            i+=1\n",
    "            k = k.next\n",
    "        return i\n",
    "            \n",
    "    def __repr__ (self):\n",
    "        if self.first_node is None:\n",
    "            return \"[]\"\n",
    "        \n",
    "        s = \"[ %s\"%self.first_node\n",
    "        k=self.first_node\n",
    "        while (k.next is not None):\n",
    "            s += \", %s\"%k.next\n",
    "            k = k.next\n",
    "    \n",
    "        return s+\" ]\""
   ]
  },
  {
   "cell_type": "markdown",
   "metadata": {},
   "source": [
    "## Ejercicio 1\n",
    "\n",
    "Implementa el método `__getitem__` para que funcione con índices positivos y negativos. Por ejemplo:\n",
    "\n",
    "    > W = L1(Node(10, Node(20, Node(30))))\n",
    "    > print W\n",
    "    [ 10, 20, 30 ]\n",
    "\n",
    "    > print W[0], W[1], W[2]\n",
    "    > print W[-1], W[-2], W[-3]\n",
    "    10 20 30\n",
    "    30 20 10\n",
    "\n",
    "Ten en cuenta los casos en los que el índice excede el tamaño de la lista, bien positivo bien negativo. **En estos casos has de generar un assertion error**. \n",
    "\n",
    "En el ejemplo anterior, `W[3]` y `W[-4]` deben de generar un `AssertionError`"
   ]
  },
  {
   "cell_type": "code",
   "execution_count": 138,
   "metadata": {},
   "outputs": [],
   "source": [
    "class Node:\n",
    "        def __init__(self, value, next=None):\n",
    "            assert next is None or isinstance(next,Node), \"next must be Node, not %s\"%(type(next))\n",
    "            self.value = value\n",
    "            self.next  = next\n",
    "\n",
    "        def __repr__(self):\n",
    "            return str(self.value)\n",
    "        \n",
    "class L(object):\n",
    "        def __init__ (self, first_node=None):\n",
    "            assert first_node is None or isinstance(first_node,Node), \"first must be Node, not %s\"%(type(first_node))\n",
    "            self.first_node = first_node\n",
    "            \n",
    "\n",
    "        def __len__(self):\n",
    "            k = self.first_node\n",
    "            if k is None:\n",
    "                return 0\n",
    "            i=1\n",
    "            while k.next is not None:\n",
    "                i+=1\n",
    "                k = k.next\n",
    "            return i\n",
    "\n",
    "        def __repr__ (self):\n",
    "            if self.first_node is None:\n",
    "                return \"[]\"\n",
    "\n",
    "            s = \"[ %s\"%self.first_node\n",
    "            k=self.first_node\n",
    "            while (k.next is not None):\n",
    "                s += \", %s\"%k.next\n",
    "                k = k.next\n",
    "\n",
    "            return s+\" ]\"\n",
    "\n",
    "def L1(*args,**kwargs):\n",
    "    \n",
    "    class L1_class(L):\n",
    "        \n",
    "        def __getitem__(self, idx):\n",
    "            \n",
    "            return <... TU CODIGO AQUI ...>\n",
    "            \n",
    "    return L1_class(*args,**kwargs)\n",
    "\n"
   ]
  },
  {
   "cell_type": "markdown",
   "metadata": {},
   "source": [
    "comprueba manualmente tu código"
   ]
  },
  {
   "cell_type": "code",
   "execution_count": 139,
   "metadata": {},
   "outputs": [],
   "source": [
    "W = L1(Node(10, Node(20, Node(30))))\n",
    "W = L1(first_node=Node(10, Node(20, Node(30))))\n",
    "print(W)"
   ]
  },
  {
   "cell_type": "code",
   "execution_count": 140,
   "metadata": {},
   "outputs": [],
   "source": [
    "W.first_node == None"
   ]
  },
  {
   "cell_type": "code",
   "execution_count": 141,
   "metadata": {},
   "outputs": [],
   "source": [
    "print(W[0], W[1], W[2])\n",
    "print(W[-1], W[-2], W[-3])"
   ]
  },
  {
   "cell_type": "code",
   "execution_count": 142,
   "metadata": {},
   "outputs": [],
   "source": [
    "print(W[3])"
   ]
  },
  {
   "cell_type": "code",
   "execution_count": 143,
   "metadata": {},
   "outputs": [],
   "source": [
    "print (W[-4])"
   ]
  },
  {
   "cell_type": "markdown",
   "metadata": {},
   "source": [
    "#### registra tu solución en línea"
   ]
  },
  {
   "cell_type": "code",
   "execution_count": 147,
   "metadata": {},
   "outputs": [],
   "source": [
    "student.submit_task(globals(), task_id=\"task_01\");"
   ]
  },
  {
   "cell_type": "code",
   "execution_count": null,
   "metadata": {},
   "outputs": [],
   "source": []
  },
  {
   "cell_type": "code",
   "execution_count": null,
   "metadata": {},
   "outputs": [],
   "source": []
  },
  {
   "cell_type": "code",
   "execution_count": 4,
   "metadata": {},
   "outputs": [],
   "source": [
    "r = teacher.run_grader_locally(\"grader_01\", source_functions_names_01, source_variables_names_01, locals())\n",
    "from IPython.display import HTML\n",
    "print (\"grade\", r[0])\n",
    "HTML(r[1])"
   ]
  },
  {
   "cell_type": "markdown",
   "metadata": {},
   "source": [
    "## Ejercicio 2\n",
    "\n",
    "Implementa una función `__setitem__` que también soporte índices negativos. Por ejemplo:\n",
    "\n",
    "    W = L2(Node(10, Node(20, Node(30))))\n",
    "    print W\n",
    "    [ 10, 20, 30 ]\n",
    "\n",
    "    W[1]=25\n",
    "    print W\n",
    "    [ 10, 25, 30 ]\n",
    "\n",
    "    W[-1]=35\n",
    "    print W\n",
    "    [ 10, 25, 35 ]\n"
   ]
  },
  {
   "cell_type": "code",
   "execution_count": 172,
   "metadata": {},
   "outputs": [],
   "source": [
    "def L2(*args,**kwargs):\n",
    "    \n",
    "    class L2_class(L):\n",
    "        \n",
    "        def __getitem__(self, idx):\n",
    "            \n",
    "            <... TU CODIGO AQUI ...>\n",
    "        \n",
    "        def __setitem__(self, idx, value):\n",
    "           <... TU CODIGO AQUI ...>\n",
    "            \n",
    "    return L2_class(*args,**kwargs)"
   ]
  },
  {
   "cell_type": "code",
   "execution_count": 173,
   "metadata": {},
   "outputs": [],
   "source": [
    "W = L2(Node(10, Node(20, Node(30))))\n",
    "print(W)"
   ]
  },
  {
   "cell_type": "code",
   "execution_count": 174,
   "metadata": {},
   "outputs": [],
   "source": [
    "W[1]=25\n",
    "print(W)"
   ]
  },
  {
   "cell_type": "code",
   "execution_count": 175,
   "metadata": {},
   "outputs": [],
   "source": [
    "W[-1]=35\n",
    "print(W)"
   ]
  },
  {
   "cell_type": "markdown",
   "metadata": {},
   "source": [
    "#### registra tu solución en línea"
   ]
  },
  {
   "cell_type": "code",
   "execution_count": 182,
   "metadata": {},
   "outputs": [],
   "source": [
    "student.submit_task(globals(), task_id=\"task_02\");"
   ]
  },
  {
   "cell_type": "markdown",
   "metadata": {},
   "source": [
    "## Ejercicio 3\n",
    "\n",
    "Implementa la función `clone_node` que duplica. Si el nodo tiene un `next` también lo duplica\n",
    "\n",
    "Sugerencia: implementa el siguiente pseudocódigo **recursivo**\n",
    "\n",
    "    function clone_node(node)\n",
    "     \n",
    "        si node es NULL\n",
    "            devuelve NULL\n",
    "            \n",
    "        devuelve nuevo_nodo(node.value, clone_node(node.next))"
   ]
  },
  {
   "cell_type": "code",
   "execution_count": 200,
   "metadata": {},
   "outputs": [],
   "source": [
    "def clone_node(node):\n",
    "    r = <... TU CODIGO AQUI ...>\n",
    "    return r"
   ]
  },
  {
   "cell_type": "markdown",
   "metadata": {},
   "source": [
    "comprueba manualmente tu código. Los valores han de ser iguales pero los `id` no, señalando que son verdaderamente objetos distintos"
   ]
  },
  {
   "cell_type": "code",
   "execution_count": 201,
   "metadata": {},
   "outputs": [],
   "source": [
    "n = Node(10, Node(20, Node(30)))\n",
    "print(n, id(n))\n",
    "print(n.next, id(n.next))\n",
    "print(n.next.next, id(n.next.next))\n",
    "print(n.next.next.next, id(n.next.next.next))"
   ]
  },
  {
   "cell_type": "code",
   "execution_count": 202,
   "metadata": {},
   "outputs": [],
   "source": [
    "k = clone_node(n)\n",
    "print( k, id(k))\n",
    "print( k.next, id(k.next))\n",
    "print( k.next.next, id(k.next.next))\n",
    "print( k.next.next.next, id(k.next.next.next))"
   ]
  },
  {
   "cell_type": "markdown",
   "metadata": {},
   "source": [
    "#### registra tu solución en línea"
   ]
  },
  {
   "cell_type": "code",
   "execution_count": 209,
   "metadata": {},
   "outputs": [],
   "source": [
    "student.submit_task(globals(), task_id=\"task_03\");"
   ]
  },
  {
   "cell_type": "code",
   "execution_count": null,
   "metadata": {},
   "outputs": [],
   "source": []
  },
  {
   "cell_type": "code",
   "execution_count": null,
   "metadata": {},
   "outputs": [],
   "source": []
  },
  {
   "cell_type": "markdown",
   "metadata": {},
   "source": [
    "## Ejercicio 4\n",
    "\n",
    "Implementa `clone` que duplica una lista. Pon atención, ya que si hay sublistas, éstas han de ser duplicadas también. Entiende la implementación de la siguiente función, que muestra recursivamente los `id` de cada nodo de una lista **según tu propia implementación del ejercicio 2**"
   ]
  },
  {
   "cell_type": "code",
   "execution_count": 7,
   "metadata": {},
   "outputs": [],
   "source": [
    "def show_ids(M, level=0):\n",
    "    k = M.first_node\n",
    "    while k is not None:\n",
    "        print (\" \"*2*level, id(k))\n",
    "        if (str(k.value.__class__.__name__) == str(M.__class__.__name__)):\n",
    "            \n",
    "            show_ids(k.value, level+1)\n",
    "        k = k.next\n",
    "        "
   ]
  },
  {
   "cell_type": "code",
   "execution_count": 8,
   "metadata": {},
   "outputs": [],
   "source": [
    "W=L2(Node(10, Node(L2(Node(14, Node(15, Node(L2(Node(16, Node(17))))))), Node(20, Node(30)))))\n",
    "show_ids(W)"
   ]
  },
  {
   "cell_type": "code",
   "execution_count": null,
   "metadata": {},
   "outputs": [],
   "source": []
  },
  {
   "cell_type": "markdown",
   "metadata": {},
   "source": [
    "Desarrolla tu solución de la siguiente manera:\n",
    "\n",
    "1. Primero copia los nodos de la lista actual (`self`)\n",
    "1. Crea una lista nueva con los nodos copiados\n",
    "1. Recorre los nodos de la lista nueva verificando el campo `value`\n",
    "1. Si este campo es también una lista (usa `isinstance` como en la función `show_ids`) entonces llama a `clone` de esa lista y sustituye el valor."
   ]
  },
  {
   "cell_type": "code",
   "execution_count": 229,
   "metadata": {},
   "outputs": [],
   "source": [
    "def L4(*args,**kwargs):\n",
    "    \n",
    "    class L4_class(L):\n",
    "\n",
    "        def clone(self):\n",
    "\n",
    "            def clone_node(node):\n",
    "                return <... TU CODIGO AQUI ...>\n",
    "\n",
    "            r = <... TU CODIGO AQUI ...>\n",
    "            return r\n",
    "        \n",
    "        \n",
    "    return L4_class(*args,**kwargs)"
   ]
  },
  {
   "cell_type": "markdown",
   "metadata": {},
   "source": [
    "comprueba tu código, ambas listas han de tener el mismo contenido, pero distintos `id`"
   ]
  },
  {
   "cell_type": "code",
   "execution_count": 10,
   "metadata": {},
   "outputs": [],
   "source": [
    "W=L4(Node(10, Node(L4(Node(14, Node(15, Node(L4(Node(16, Node(17))))))), Node(20, Node(30)))))\n",
    "W"
   ]
  },
  {
   "cell_type": "code",
   "execution_count": 11,
   "metadata": {},
   "outputs": [],
   "source": [
    "W.__class__.__name__"
   ]
  },
  {
   "cell_type": "code",
   "execution_count": 13,
   "metadata": {},
   "outputs": [],
   "source": [
    "K = W.clone()\n",
    "K"
   ]
  },
  {
   "cell_type": "code",
   "execution_count": 14,
   "metadata": {},
   "outputs": [],
   "source": [
    "show_ids(W)"
   ]
  },
  {
   "cell_type": "code",
   "execution_count": 15,
   "metadata": {},
   "outputs": [],
   "source": [
    "show_ids(K)"
   ]
  },
  {
   "cell_type": "markdown",
   "metadata": {},
   "source": [
    "#### registra tu solución en línea"
   ]
  },
  {
   "cell_type": "code",
   "execution_count": 235,
   "metadata": {},
   "outputs": [],
   "source": [
    "student.submit_task(globals(), task_id=\"task_04\");"
   ]
  },
  {
   "cell_type": "code",
   "execution_count": null,
   "metadata": {},
   "outputs": [],
   "source": []
  },
  {
   "cell_type": "code",
   "execution_count": null,
   "metadata": {},
   "outputs": [],
   "source": []
  },
  {
   "cell_type": "code",
   "execution_count": null,
   "metadata": {},
   "outputs": [],
   "source": []
  },
  {
   "cell_type": "code",
   "execution_count": null,
   "metadata": {},
   "outputs": [],
   "source": []
  },
  {
   "cell_type": "markdown",
   "metadata": {},
   "source": [
    "## Ejercicio 5\n",
    "\n",
    "Implementa el método ´__add__´ para que concatene una lista con otra creando una nueva lista. Usa los métodos desarrollados en los ejercicios anteriores. \n",
    "\n",
    "**Sugerencia de implementación**: copia primero las dos listas originales y luego concaténalas haciendo apuntar el `next` del último elemento de la copia de la primera lista al primer elemento de la copia de la segunda lista."
   ]
  },
  {
   "cell_type": "code",
   "execution_count": 241,
   "metadata": {},
   "outputs": [],
   "source": [
    "def L5(*args,**kwargs):\n",
    "    \n",
    "    class L5_class(L):\n",
    "\n",
    "        def clone(self):\n",
    "\n",
    "            return <... TU CODIGO AQUI ...>\n",
    "\n",
    "        def __add__(self, M):\n",
    "\n",
    "            return <... TU CODIGO AQUI ...>  \n",
    "        \n",
    "    return L5_class(*args,**kwargs)\n",
    "              \n",
    "        "
   ]
  },
  {
   "cell_type": "code",
   "execution_count": 242,
   "metadata": {},
   "outputs": [],
   "source": [
    "W = L5(Node(10, Node(20, Node(30))))\n",
    "Z = L5(Node(3, Node(2)))\n",
    "print (W)\n",
    "print (Z)\n",
    "print (W + Z + L5()) "
   ]
  },
  {
   "cell_type": "markdown",
   "metadata": {},
   "source": [
    "esto ahora debería de funcionar (recuerda que en las Notas correspondientes existía un problema)"
   ]
  },
  {
   "cell_type": "code",
   "execution_count": 243,
   "metadata": {},
   "outputs": [],
   "source": [
    "X = W + Z + W\n",
    "print (X)"
   ]
  },
  {
   "cell_type": "markdown",
   "metadata": {},
   "source": [
    "#### registra tu solución en línea"
   ]
  },
  {
   "cell_type": "code",
   "execution_count": 244,
   "metadata": {},
   "outputs": [],
   "source": [
    "student.submit_task(globals(), task_id=\"task_05\");"
   ]
  },
  {
   "cell_type": "code",
   "execution_count": null,
   "metadata": {},
   "outputs": [],
   "source": []
  },
  {
   "cell_type": "code",
   "execution_count": null,
   "metadata": {},
   "outputs": [],
   "source": []
  },
  {
   "cell_type": "markdown",
   "metadata": {},
   "source": [
    "## Ejercicio 6\n",
    "\n",
    "Implementa la función de igualdad.\n",
    "\n",
    "**Sugerencia de implementación**: haz una función que recorra simultáneamente los nodos de ambas listas (`self` y `other`) y devuelva `False` en cuanto encuentre que el campo `value` de los dos nodos sea distinto (`!=`). Pon especial atención a que si `value` es a su vez una lista, el método será recursivo."
   ]
  },
  {
   "cell_type": "code",
   "execution_count": 259,
   "metadata": {},
   "outputs": [],
   "source": [
    "def L6(*args,**kwargs):\n",
    "    \n",
    "    \n",
    "    class L6_class(L):\n",
    "\n",
    "        def __eq__(self, other):\n",
    "\n",
    "            return <... TU CODIGO AQUI ...>\n",
    "\n",
    "        def __ne__(self, other):\n",
    "            return not self==other\n",
    "        \n",
    "    return L6_class(*args,**kwargs)"
   ]
  },
  {
   "cell_type": "code",
   "execution_count": 17,
   "metadata": {},
   "outputs": [],
   "source": [
    "W=L6(Node(10, Node(L6(Node(14, Node(15, Node(L6(Node(16, Node(17))))))), Node(20, Node(30)))))\n",
    "Z=L6(Node(10, Node(L6(Node(14, Node(15, Node(L6(Node(16, Node(17))))))), Node(20, Node(30)))))\n",
    "Y=L6(Node(10, Node(L6(Node(14, Node(15))), Node(20, Node(30)))))\n",
    "print (W)\n",
    "print (Z)\n",
    "print (Y)"
   ]
  },
  {
   "cell_type": "code",
   "execution_count": 18,
   "metadata": {},
   "outputs": [],
   "source": [
    "print (W==W)\n",
    "print (Z==Z)\n",
    "print (Y==Y)\n",
    "print (W==Z)\n",
    "print (W==Y)\n",
    "print (Y==Z)"
   ]
  },
  {
   "cell_type": "markdown",
   "metadata": {},
   "source": [
    "#### registra tu solución en línea"
   ]
  },
  {
   "cell_type": "code",
   "execution_count": 268,
   "metadata": {},
   "outputs": [],
   "source": [
    "student.submit_task(globals(), task_id=\"task_06\");"
   ]
  },
  {
   "cell_type": "code",
   "execution_count": null,
   "metadata": {},
   "outputs": [],
   "source": []
  },
  {
   "cell_type": "markdown",
   "metadata": {},
   "source": [
    "## Ejercicio 7\n",
    "\n",
    "Realiza una función que evalúe un `VarTerm` dado un diccionario `vals`. Asume que este diccionario contendrá un valor para la variable del término. Por ejemplo\n",
    "\n",
    "    > vals = {\"x\": 1, \"y\":2, \"z\": 3}\n",
    "    > vt = VarTerm(9,\"y\", 2)\n",
    "    > print vt, \"=\", evaluate_vterm(vt, vals)\n",
    "    9 y^2 = 36\n",
    "    \n",
    "    > vt = VarTerm(2,\"z\", 3)\n",
    "    > print vt, \"=\", evaluate_vterm(vt, vals)\n",
    "    2 z^3 = 54\n"
   ]
  },
  {
   "cell_type": "code",
   "execution_count": 276,
   "metadata": {},
   "outputs": [],
   "source": [
    "def VarTerm7(*args,**kwargs):\n",
    "    \n",
    "    class VarTerm7_class():\n",
    "        def __init__(self, coef, var, exp=1):\n",
    "            assert (isinstance(coef, float) or isinstance(coef,int)) and \\\n",
    "                    isinstance(exp, int) and isinstance(var, str) and len(var)==1\n",
    "            self.coef = coef\n",
    "            self.var  = var\n",
    "            self.exp  = exp\n",
    "\n",
    "        def get_math_representation(self):\n",
    "            s = (\"%s\"%str(self.coef) if self.coef!=1 else \"\") +\\\n",
    "                (\" %s\"%self.var if self.exp==1 else (\" %s^%d\"%(self.var, self.exp) if self.exp!=0 else \"\")) \n",
    "            return s\n",
    "\n",
    "        def __repr__(self):\n",
    "            return self.get_math_representation() \n",
    "\n",
    "        def evaluate(self, vals):\n",
    "            return <... TU CODIGO AQUI ...>\n",
    "        \n",
    "    return VarTerm_class(*args,**kwargs)"
   ]
  },
  {
   "cell_type": "code",
   "execution_count": 277,
   "metadata": {},
   "outputs": [],
   "source": [
    "vals = {\"x\": 1, \"y\":2, \"z\": 3}\n",
    "vt = VarTerm7(9,\"y\", 2)\n",
    "print(vt, \"=\", vt.evaluate(vals))\n",
    "vt = VarTerm7(2,\"z\", 3)\n",
    "print(vt, \"=\", vt.evaluate(vals))"
   ]
  },
  {
   "cell_type": "markdown",
   "metadata": {},
   "source": [
    "#### registra tu solución en línea"
   ]
  },
  {
   "cell_type": "code",
   "execution_count": 298,
   "metadata": {},
   "outputs": [],
   "source": [
    "student.submit_task(globals(), task_id=\"task_07\");"
   ]
  },
  {
   "cell_type": "code",
   "execution_count": null,
   "metadata": {},
   "outputs": [],
   "source": []
  },
  {
   "cell_type": "markdown",
   "metadata": {},
   "source": [
    "## Ejercicios de refuerzo (no obligatorios)\n",
    "\n",
    "- crea una función que evalúe un `VarPol`, según definido en las notas.\n",
    "- analiza la complejidad computacional de tus implementaciones\n",
    "- ¿Podrías enriqueces `Node` para mejorar la complejidad computacional?"
   ]
  },
  {
   "cell_type": "markdown",
   "metadata": {},
   "source": [
    "## Ejercicio 8\n",
    "\n",
    "Realiza una función que evalúe un `VarPol` dado un diccionario `vals`. Asume que `vals` contendrá valores para todas las variables presentes en el polinomio. \n",
    "\n",
    "**Sugerencia de implementación**\n",
    "\n",
    "1. evalua el `VarTerm` asociado con el polinomio.\n",
    "2. recorre la lista del polinomio (desde `self.first_node`) sumando el valor de cada nodo de forma que:\n",
    "\n",
    "   1. si el nodo es un `VarTerm` llama a la función `evaluate_vterm`\n",
    "   2. si el nodo es un `VarPol` llama a la función `evaluate` del dicho polinomio\n",
    "   \n",
    "Observa que este último paso hace el algoritmo recursivo, por tanto, pon atención al mismo."
   ]
  },
  {
   "cell_type": "code",
   "execution_count": 23,
   "metadata": {},
   "outputs": [],
   "source": [
    "class Pol(L):\n",
    "    def get_math_representation(self):\n",
    "        if self.first_node is None:\n",
    "            return Math(\"\")\n",
    "        \n",
    "        k = self.first_node\n",
    "        s = k.value.get_math_representation()\n",
    "        \n",
    "        while (k.next is not None):\n",
    "            s += \"+\"+k.next.value.get_math_representation()\n",
    "            k = k.next\n",
    "    \n",
    "        s = s.replace(\"+-\", \"-\")\n",
    "        return s\n",
    "    \n",
    "    def show(self):\n",
    "        from IPython.display import Math, HTML, display\n",
    "        display(HTML(\"<script src='https://cdnjs.cloudflare.com/ajax/libs/mathjax/2.7.3/latest.js?config=default'></script>\"))\n",
    "        return Math(self.get_math_representation())\n",
    "\n",
    "\n",
    "class VarTerm():\n",
    "    def __init__(self, coef, var, exp=1):\n",
    "        assert (isinstance(coef, float) or isinstance(coef,int)) and \\\n",
    "                isinstance(exp, int) and isinstance(var, str) and len(var)==1\n",
    "        self.coef = coef\n",
    "        self.var  = var\n",
    "        self.exp  = exp\n",
    "        \n",
    "    def get_math_representation(self):\n",
    "        s = \"\" if self.coef==0 else \\\n",
    "            (\"%s\"%str(self.coef) if self.coef!=1 else \"\") +\\\n",
    "            (\" %s\"%self.var if self.exp==1 else (\" %s^%d\"%(self.var, self.exp) if self.exp!=0 else \"\")) \n",
    "        return s\n",
    "    \n",
    "    def show(self):\n",
    "        from IPython.display import Math, HTML, display\n",
    "        display(HTML(\"<script src='https://cdnjs.cloudflare.com/ajax/libs/mathjax/2.7.3/latest.js?config=default'></script>\"))\n",
    "        return Math(self.get_math_representation())\n",
    "       \n",
    "    def __repr__(self):\n",
    "        return self.get_math_representation()      \n",
    "\n",
    "class VarPol(Pol):\n",
    "    def __init__(self, first_node, vterm=VarTerm(1,\"k\",0)):\n",
    "        super(VarPol, self).__init__(first_node)\n",
    "        assert vterm is not None and isinstance(vterm, VarTerm), \"must specify a VarTerm\" \n",
    "        self.vterm = vterm\n",
    "        \n",
    "    def get_math_representation(self):\n",
    "        return self.vterm.get_math_representation()+\"(\"+super(VarPol, self).get_math_representation()+\")\"\n",
    "\n",
    "\n",
    "    "
   ]
  },
  {
   "cell_type": "code",
   "execution_count": 24,
   "metadata": {},
   "outputs": [],
   "source": [
    "p1 = VarPol( vterm=VarTerm(1,\"x\",3), first_node=Node(VarTerm(2,\"y\", 2), Node(VarTerm(5,\"y\"))))\n",
    "p2 = VarPol(first_node=Node(VarTerm(7,\"y\",2)), vterm=VarTerm(1,\"x\",1))\n",
    "p3 = VarPol(first_node=Node(p1, Node(p2)), vterm=VarTerm(1,\"z\", 2))\n",
    "p4 = VarPol( vterm=VarTerm(1,\"x\",2), first_node=Node(VarTerm(5,\"y\", 1)))\n",
    "p5 = VarPol( first_node=Node(p4, Node(VarTerm(4,\"x\",1))), vterm=VarTerm(1,\"z\",1))\n",
    "p6 = VarPol( vterm=VarTerm(1,\"x\",3), first_node=Node(VarTerm(4,\"y\", 2)))\n",
    "p7 = VarPol(first_node=Node(VarTerm(9,\"y\", 0), Node(VarTerm(8,\"y\",1))))\n",
    "p8 = VarPol(first_node=Node(p3, Node(p5, Node(p6, Node(p7)))))\n",
    "p8.show()"
   ]
  },
  {
   "cell_type": "code",
   "execution_count": 25,
   "metadata": {},
   "outputs": [],
   "source": [
    "class VarPol(Pol):\n",
    "    def __init__(self, first_node, vterm=VarTerm(1,\"k\",0)):\n",
    "        super(VarPol, self).__init__(first_node)\n",
    "        assert vterm is not None and isinstance(vterm, VarTerm), \"must specify a VarTerm\" \n",
    "        self.vterm = vterm\n",
    "        \n",
    "    def get_math_representation(self):\n",
    "        return self.vterm.get_math_representation()+\"(\"+super(VarPol, self).get_math_representation()+\")\"\n",
    "    \n",
    "    def evaluate(self, vals):\n",
    "        \n",
    "        def evaluate_vterm(vterm, vals):\n",
    "            return vterm.coef*vals[vterm.var]**vterm.exp\n",
    "        \n",
    "        \n",
    "        vt = evaluate_vterm(self.vterm, vals)\n",
    "\n",
    "        vpol = 0\n",
    "        k = self.first_node\n",
    "        while k is not None:\n",
    "            \n",
    "            vpol += evaluate_vterm(k.value, vals) if isinstance(k.value, VarTerm) else \\\n",
    "                    k.value.evaluate(vals) if isintance(k.value, VarPol) else 0\n",
    "            k = k.next\n",
    "        \n",
    "        return vt*vpol\n",
    "            "
   ]
  },
  {
   "cell_type": "code",
   "execution_count": 26,
   "metadata": {},
   "outputs": [],
   "source": [
    "p1 = VarPol( vterm=VarTerm(1,\"x\",3), first_node=Node(VarTerm(2,\"y\", 2), Node(VarTerm(5,\"y\"))))\n",
    "p2 = VarPol(first_node=Node(VarTerm(7,\"y\",2)), vterm=VarTerm(1,\"x\",1))\n",
    "p3 = VarPol(first_node=Node(p1, Node(p2)), vterm=VarTerm(1,\"z\", 2))\n",
    "p4 = VarPol( vterm=VarTerm(1,\"x\",2), first_node=Node(VarTerm(5,\"y\", 1)))\n",
    "p5 = VarPol( first_node=Node(p4, Node(VarTerm(4,\"x\",1))), vterm=VarTerm(1,\"z\",1))\n",
    "p6 = VarPol( vterm=VarTerm(1,\"x\",3), first_node=Node(VarTerm(4,\"y\", 2)))\n",
    "p7 = VarPol(first_node=Node(VarTerm(9,\"y\", 0), Node(VarTerm(8,\"y\",1))))\n",
    "p8 = VarPol(first_node=Node(p3, Node(p5, Node(p6, Node(p7)))))\n",
    "p8.show()"
   ]
  },
  {
   "cell_type": "code",
   "execution_count": 27,
   "metadata": {},
   "outputs": [],
   "source": [
    "vals = {\"x\": 1, \"y\":2, \"z\": 3}\n",
    "print (p1.evaluate(vals))\n",
    "p1.show()"
   ]
  },
  {
   "cell_type": "markdown",
   "metadata": {},
   "source": [
    "## Ejercicios de refuerzo (no obligatorios)\n",
    "\n",
    "- crea una función que evalúe un `VarPol`, según definido en las notas.\n",
    "- analiza la complejidad computacional de tus implementaciones\n",
    "- ¿Podrías enriqueces `Node` para mejorar la complejidad computacional?"
   ]
  },
  {
   "cell_type": "code",
   "execution_count": null,
   "metadata": {},
   "outputs": [],
   "source": []
  }
 ],
 "metadata": {
  "kernelspec": {
   "display_name": "Python 3 (ipykernel)",
   "language": "python",
   "name": "python3"
  },
  "language_info": {
   "codemirror_mode": {
    "name": "ipython",
    "version": 3
   },
   "file_extension": ".py",
   "mimetype": "text/x-python",
   "name": "python",
   "nbconvert_exporter": "python",
   "pygments_lexer": "ipython3",
   "version": "3.10.6"
  },
  "toc": {
   "base_numbering": 1,
   "nav_menu": {},
   "number_sections": true,
   "sideBar": true,
   "skip_h1_title": false,
   "title_cell": "Table of Contents",
   "title_sidebar": "Contents",
   "toc_cell": false,
   "toc_position": {},
   "toc_section_display": true,
   "toc_window_display": false
  }
 },
 "nbformat": 4,
 "nbformat_minor": 4
}
